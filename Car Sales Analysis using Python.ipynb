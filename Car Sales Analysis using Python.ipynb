{
 "cells": [
  {
   "cell_type": "markdown",
   "id": "353f7f72",
   "metadata": {
    "papermill": {
     "duration": 0.013976,
     "end_time": "2022-11-01T05:17:13.439502",
     "exception": false,
     "start_time": "2022-11-01T05:17:13.425526",
     "status": "completed"
    },
    "tags": []
   },
   "source": [
    "# <p style=\"padding:10px;background-color:#27948b;margin:0;color:#e7d954;font-family:newtimeroman;font-size:150%;text-align:center;border-radius: 15px 50px;overflow:hidden;font-weight:500\">⭐️ CAR DATA ANALYSIS ⭐️</p>\n",
    "\n",
    "<p style=\"text-align:center; \">\n",
    "<img src=\"https://www.hareketligifler.net/data/media/67/araba-hareketli-resim-0321.gif\" style='width: 600px; height: 300px;'>\n",
    "</p>\n",
    "\n",
    "<p style=\"text-align:justify; \">\n",
    " <p style=\"padding:10px;background-color:#27948b;margin:0;color:#e7d954;font-family:newtimeroman;font-size:150%;text-align:center;border-radius: 15px 50px;overflow:hidden;font-weight:500\">This data is collected from 'Car Dekho'.\n",
    "Following details of cars are included in the dataset:\n",
    "    \n",
    "\n",
    "1) Car name\n",
    "    \n",
    "2) Year\n",
    "    \n",
    "3) Selling Price\n",
    "    \n",
    "4) Kms driven\n",
    "    \n",
    "5) Fuel\n",
    "    \n",
    "6) Seller type\n",
    "    \n",
    "7) Transmission\n",
    "    \n",
    "8) Owner\n",
    "\n",
    "</p>\n",
    "\n",
    "\n",
    "   <a id='top'></a>\n",
    "<div class=\"list-group\" id=\"list-tab\" role=\"tablist\"></div>\n",
    "\n",
    "\n",
    " <p style=\"padding:10px;background-color:#27948b;margin:0;color:#e7d954;font-family:newtimeroman;font-size:150%;text-align:center;border-radius: 15px 50px;overflow:hidden;font-weight:500\">⭐️ TABLE OF CONTENTS ⭐️</p>\n",
    "    \n",
    "    \n",
    "* [1. IMPORTING LIBRARIES](#1)\n",
    "    \n",
    "* [2. LOADING DATASET](#2)\n",
    "  \n",
    "* [3. EXPLORATORY SOME INFORMATION ABOUT DATASET](#3)\n",
    "\n",
    "* [4. DATA VISUALIZATION](#4)\n",
    "\n",
    "* [5. RESULT](#5)\n",
    "\n",
    "\n",
    " "
   ]
  },
  {
   "cell_type": "markdown",
   "id": "a513ba46",
   "metadata": {
    "papermill": {
     "duration": 0.013621,
     "end_time": "2022-11-01T05:17:13.465681",
     "exception": false,
     "start_time": "2022-11-01T05:17:13.452060",
     "status": "completed"
    },
    "tags": []
   },
   "source": [
    "<a id=\"2\"></a>\n",
    "# <p style=\"padding:10px;background-color:#27948b;margin:0;color:#e7d954;font-family:newtimeroman;font-size:100%;text-align:center;border-radius: 15px 50px;overflow:hidden;font-weight:500\">Import Libraries</p>"
   ]
  },
  {
   "cell_type": "code",
   "execution_count": 1,
   "id": "adfb41c9",
   "metadata": {
    "execution": {
     "iopub.execute_input": "2022-11-01T05:17:13.494254Z",
     "iopub.status.busy": "2022-11-01T05:17:13.493745Z",
     "iopub.status.idle": "2022-11-01T05:17:16.310260Z",
     "shell.execute_reply": "2022-11-01T05:17:16.308310Z"
    },
    "papermill": {
     "duration": 2.834258,
     "end_time": "2022-11-01T05:17:16.312829",
     "exception": false,
     "start_time": "2022-11-01T05:17:13.478571",
     "status": "completed"
    },
    "tags": []
   },
   "outputs": [],
   "source": [
    "import numpy as np \n",
    "import pandas as pd \n",
    "import seaborn as sns\n",
    "import matplotlib.pyplot as plt"
   ]
  },
  {
   "cell_type": "markdown",
   "id": "e20a3178",
   "metadata": {
    "papermill": {
     "duration": 0.012133,
     "end_time": "2022-11-01T05:17:16.337270",
     "exception": false,
     "start_time": "2022-11-01T05:17:16.325137",
     "status": "completed"
    },
    "tags": []
   },
   "source": [
    "<a id=\"2\"></a>\n",
    "# <p style=\"padding:10px;background-color:#27948b;margin:0;color:#e7d954;font-family:newtimeroman;font-size:100%;text-align:center;border-radius: 15px 50px;overflow:hidden;font-weight:500\">Loading Dataset</p>"
   ]
  },
  {
   "cell_type": "code",
   "execution_count": 2,
   "id": "22fb0312",
   "metadata": {
    "execution": {
     "iopub.execute_input": "2022-11-01T05:17:16.363619Z",
     "iopub.status.busy": "2022-11-01T05:17:16.363250Z",
     "iopub.status.idle": "2022-11-01T05:17:16.423826Z",
     "shell.execute_reply": "2022-11-01T05:17:16.422014Z"
    },
    "papermill": {
     "duration": 0.076834,
     "end_time": "2022-11-01T05:17:16.426476",
     "exception": false,
     "start_time": "2022-11-01T05:17:16.349642",
     "status": "completed"
    },
    "tags": []
   },
   "outputs": [
    {
     "data": {
      "text/html": [
       "<div>\n",
       "<style scoped>\n",
       "    .dataframe tbody tr th:only-of-type {\n",
       "        vertical-align: middle;\n",
       "    }\n",
       "\n",
       "    .dataframe tbody tr th {\n",
       "        vertical-align: top;\n",
       "    }\n",
       "\n",
       "    .dataframe thead th {\n",
       "        text-align: right;\n",
       "    }\n",
       "</style>\n",
       "<table border=\"1\" class=\"dataframe\">\n",
       "  <thead>\n",
       "    <tr style=\"text-align: right;\">\n",
       "      <th></th>\n",
       "      <th>name</th>\n",
       "      <th>year</th>\n",
       "      <th>selling_price</th>\n",
       "      <th>km_driven</th>\n",
       "      <th>fuel</th>\n",
       "      <th>seller_type</th>\n",
       "      <th>transmission</th>\n",
       "      <th>owner</th>\n",
       "    </tr>\n",
       "  </thead>\n",
       "  <tbody>\n",
       "    <tr>\n",
       "      <th>0</th>\n",
       "      <td>Maruti 800 AC</td>\n",
       "      <td>2007</td>\n",
       "      <td>60000</td>\n",
       "      <td>70000</td>\n",
       "      <td>Petrol</td>\n",
       "      <td>Individual</td>\n",
       "      <td>Manual</td>\n",
       "      <td>First Owner</td>\n",
       "    </tr>\n",
       "    <tr>\n",
       "      <th>1</th>\n",
       "      <td>Maruti Wagon R LXI Minor</td>\n",
       "      <td>2007</td>\n",
       "      <td>135000</td>\n",
       "      <td>50000</td>\n",
       "      <td>Petrol</td>\n",
       "      <td>Individual</td>\n",
       "      <td>Manual</td>\n",
       "      <td>First Owner</td>\n",
       "    </tr>\n",
       "    <tr>\n",
       "      <th>2</th>\n",
       "      <td>Hyundai Verna 1.6 SX</td>\n",
       "      <td>2012</td>\n",
       "      <td>600000</td>\n",
       "      <td>100000</td>\n",
       "      <td>Diesel</td>\n",
       "      <td>Individual</td>\n",
       "      <td>Manual</td>\n",
       "      <td>First Owner</td>\n",
       "    </tr>\n",
       "    <tr>\n",
       "      <th>3</th>\n",
       "      <td>Datsun RediGO T Option</td>\n",
       "      <td>2017</td>\n",
       "      <td>250000</td>\n",
       "      <td>46000</td>\n",
       "      <td>Petrol</td>\n",
       "      <td>Individual</td>\n",
       "      <td>Manual</td>\n",
       "      <td>First Owner</td>\n",
       "    </tr>\n",
       "    <tr>\n",
       "      <th>4</th>\n",
       "      <td>Honda Amaze VX i-DTEC</td>\n",
       "      <td>2014</td>\n",
       "      <td>450000</td>\n",
       "      <td>141000</td>\n",
       "      <td>Diesel</td>\n",
       "      <td>Individual</td>\n",
       "      <td>Manual</td>\n",
       "      <td>Second Owner</td>\n",
       "    </tr>\n",
       "    <tr>\n",
       "      <th>...</th>\n",
       "      <td>...</td>\n",
       "      <td>...</td>\n",
       "      <td>...</td>\n",
       "      <td>...</td>\n",
       "      <td>...</td>\n",
       "      <td>...</td>\n",
       "      <td>...</td>\n",
       "      <td>...</td>\n",
       "    </tr>\n",
       "    <tr>\n",
       "      <th>4335</th>\n",
       "      <td>Hyundai i20 Magna 1.4 CRDi (Diesel)</td>\n",
       "      <td>2014</td>\n",
       "      <td>409999</td>\n",
       "      <td>80000</td>\n",
       "      <td>Diesel</td>\n",
       "      <td>Individual</td>\n",
       "      <td>Manual</td>\n",
       "      <td>Second Owner</td>\n",
       "    </tr>\n",
       "    <tr>\n",
       "      <th>4336</th>\n",
       "      <td>Hyundai i20 Magna 1.4 CRDi</td>\n",
       "      <td>2014</td>\n",
       "      <td>409999</td>\n",
       "      <td>80000</td>\n",
       "      <td>Diesel</td>\n",
       "      <td>Individual</td>\n",
       "      <td>Manual</td>\n",
       "      <td>Second Owner</td>\n",
       "    </tr>\n",
       "    <tr>\n",
       "      <th>4337</th>\n",
       "      <td>Maruti 800 AC BSIII</td>\n",
       "      <td>2009</td>\n",
       "      <td>110000</td>\n",
       "      <td>83000</td>\n",
       "      <td>Petrol</td>\n",
       "      <td>Individual</td>\n",
       "      <td>Manual</td>\n",
       "      <td>Second Owner</td>\n",
       "    </tr>\n",
       "    <tr>\n",
       "      <th>4338</th>\n",
       "      <td>Hyundai Creta 1.6 CRDi SX Option</td>\n",
       "      <td>2016</td>\n",
       "      <td>865000</td>\n",
       "      <td>90000</td>\n",
       "      <td>Diesel</td>\n",
       "      <td>Individual</td>\n",
       "      <td>Manual</td>\n",
       "      <td>First Owner</td>\n",
       "    </tr>\n",
       "    <tr>\n",
       "      <th>4339</th>\n",
       "      <td>Renault KWID RXT</td>\n",
       "      <td>2016</td>\n",
       "      <td>225000</td>\n",
       "      <td>40000</td>\n",
       "      <td>Petrol</td>\n",
       "      <td>Individual</td>\n",
       "      <td>Manual</td>\n",
       "      <td>First Owner</td>\n",
       "    </tr>\n",
       "  </tbody>\n",
       "</table>\n",
       "<p>4340 rows × 8 columns</p>\n",
       "</div>"
      ],
      "text/plain": [
       "                                     name  year  selling_price  km_driven  \\\n",
       "0                           Maruti 800 AC  2007          60000      70000   \n",
       "1                Maruti Wagon R LXI Minor  2007         135000      50000   \n",
       "2                    Hyundai Verna 1.6 SX  2012         600000     100000   \n",
       "3                  Datsun RediGO T Option  2017         250000      46000   \n",
       "4                   Honda Amaze VX i-DTEC  2014         450000     141000   \n",
       "...                                   ...   ...            ...        ...   \n",
       "4335  Hyundai i20 Magna 1.4 CRDi (Diesel)  2014         409999      80000   \n",
       "4336           Hyundai i20 Magna 1.4 CRDi  2014         409999      80000   \n",
       "4337                  Maruti 800 AC BSIII  2009         110000      83000   \n",
       "4338     Hyundai Creta 1.6 CRDi SX Option  2016         865000      90000   \n",
       "4339                     Renault KWID RXT  2016         225000      40000   \n",
       "\n",
       "        fuel seller_type transmission         owner  \n",
       "0     Petrol  Individual       Manual   First Owner  \n",
       "1     Petrol  Individual       Manual   First Owner  \n",
       "2     Diesel  Individual       Manual   First Owner  \n",
       "3     Petrol  Individual       Manual   First Owner  \n",
       "4     Diesel  Individual       Manual  Second Owner  \n",
       "...      ...         ...          ...           ...  \n",
       "4335  Diesel  Individual       Manual  Second Owner  \n",
       "4336  Diesel  Individual       Manual  Second Owner  \n",
       "4337  Petrol  Individual       Manual  Second Owner  \n",
       "4338  Diesel  Individual       Manual   First Owner  \n",
       "4339  Petrol  Individual       Manual   First Owner  \n",
       "\n",
       "[4340 rows x 8 columns]"
      ]
     },
     "execution_count": 2,
     "metadata": {},
     "output_type": "execute_result"
    }
   ],
   "source": [
    "df=pd.read_csv(\"Car Dataset from Car Dekho.csv\")\n",
    "df"
   ]
  },
  {
   "cell_type": "code",
   "execution_count": 3,
   "id": "c80d2a84",
   "metadata": {},
   "outputs": [
    {
     "data": {
      "text/html": [
       "<div>\n",
       "<style scoped>\n",
       "    .dataframe tbody tr th:only-of-type {\n",
       "        vertical-align: middle;\n",
       "    }\n",
       "\n",
       "    .dataframe tbody tr th {\n",
       "        vertical-align: top;\n",
       "    }\n",
       "\n",
       "    .dataframe thead th {\n",
       "        text-align: right;\n",
       "    }\n",
       "</style>\n",
       "<table border=\"1\" class=\"dataframe\">\n",
       "  <thead>\n",
       "    <tr style=\"text-align: right;\">\n",
       "      <th></th>\n",
       "      <th>name</th>\n",
       "      <th>year</th>\n",
       "      <th>selling_price</th>\n",
       "      <th>km_driven</th>\n",
       "      <th>fuel</th>\n",
       "      <th>seller_type</th>\n",
       "      <th>transmission</th>\n",
       "      <th>owner</th>\n",
       "    </tr>\n",
       "  </thead>\n",
       "  <tbody>\n",
       "    <tr>\n",
       "      <th>0</th>\n",
       "      <td>Maruti 800 AC</td>\n",
       "      <td>2007</td>\n",
       "      <td>60000</td>\n",
       "      <td>70000</td>\n",
       "      <td>Petrol</td>\n",
       "      <td>Individual</td>\n",
       "      <td>Manual</td>\n",
       "      <td>First Owner</td>\n",
       "    </tr>\n",
       "    <tr>\n",
       "      <th>1</th>\n",
       "      <td>Maruti Wagon R LXI Minor</td>\n",
       "      <td>2007</td>\n",
       "      <td>135000</td>\n",
       "      <td>50000</td>\n",
       "      <td>Petrol</td>\n",
       "      <td>Individual</td>\n",
       "      <td>Manual</td>\n",
       "      <td>First Owner</td>\n",
       "    </tr>\n",
       "    <tr>\n",
       "      <th>2</th>\n",
       "      <td>Hyundai Verna 1.6 SX</td>\n",
       "      <td>2012</td>\n",
       "      <td>600000</td>\n",
       "      <td>100000</td>\n",
       "      <td>Diesel</td>\n",
       "      <td>Individual</td>\n",
       "      <td>Manual</td>\n",
       "      <td>First Owner</td>\n",
       "    </tr>\n",
       "    <tr>\n",
       "      <th>3</th>\n",
       "      <td>Datsun RediGO T Option</td>\n",
       "      <td>2017</td>\n",
       "      <td>250000</td>\n",
       "      <td>46000</td>\n",
       "      <td>Petrol</td>\n",
       "      <td>Individual</td>\n",
       "      <td>Manual</td>\n",
       "      <td>First Owner</td>\n",
       "    </tr>\n",
       "    <tr>\n",
       "      <th>4</th>\n",
       "      <td>Honda Amaze VX i-DTEC</td>\n",
       "      <td>2014</td>\n",
       "      <td>450000</td>\n",
       "      <td>141000</td>\n",
       "      <td>Diesel</td>\n",
       "      <td>Individual</td>\n",
       "      <td>Manual</td>\n",
       "      <td>Second Owner</td>\n",
       "    </tr>\n",
       "  </tbody>\n",
       "</table>\n",
       "</div>"
      ],
      "text/plain": [
       "                       name  year  selling_price  km_driven    fuel  \\\n",
       "0             Maruti 800 AC  2007          60000      70000  Petrol   \n",
       "1  Maruti Wagon R LXI Minor  2007         135000      50000  Petrol   \n",
       "2      Hyundai Verna 1.6 SX  2012         600000     100000  Diesel   \n",
       "3    Datsun RediGO T Option  2017         250000      46000  Petrol   \n",
       "4     Honda Amaze VX i-DTEC  2014         450000     141000  Diesel   \n",
       "\n",
       "  seller_type transmission         owner  \n",
       "0  Individual       Manual   First Owner  \n",
       "1  Individual       Manual   First Owner  \n",
       "2  Individual       Manual   First Owner  \n",
       "3  Individual       Manual   First Owner  \n",
       "4  Individual       Manual  Second Owner  "
      ]
     },
     "execution_count": 3,
     "metadata": {},
     "output_type": "execute_result"
    }
   ],
   "source": [
    "df.head()"
   ]
  },
  {
   "cell_type": "code",
   "execution_count": 4,
   "id": "0ea1b681",
   "metadata": {},
   "outputs": [
    {
     "data": {
      "text/html": [
       "<div>\n",
       "<style scoped>\n",
       "    .dataframe tbody tr th:only-of-type {\n",
       "        vertical-align: middle;\n",
       "    }\n",
       "\n",
       "    .dataframe tbody tr th {\n",
       "        vertical-align: top;\n",
       "    }\n",
       "\n",
       "    .dataframe thead th {\n",
       "        text-align: right;\n",
       "    }\n",
       "</style>\n",
       "<table border=\"1\" class=\"dataframe\">\n",
       "  <thead>\n",
       "    <tr style=\"text-align: right;\">\n",
       "      <th></th>\n",
       "      <th>name</th>\n",
       "      <th>year</th>\n",
       "      <th>selling_price</th>\n",
       "      <th>km_driven</th>\n",
       "      <th>fuel</th>\n",
       "      <th>seller_type</th>\n",
       "      <th>transmission</th>\n",
       "      <th>owner</th>\n",
       "    </tr>\n",
       "  </thead>\n",
       "  <tbody>\n",
       "    <tr>\n",
       "      <th>4335</th>\n",
       "      <td>Hyundai i20 Magna 1.4 CRDi (Diesel)</td>\n",
       "      <td>2014</td>\n",
       "      <td>409999</td>\n",
       "      <td>80000</td>\n",
       "      <td>Diesel</td>\n",
       "      <td>Individual</td>\n",
       "      <td>Manual</td>\n",
       "      <td>Second Owner</td>\n",
       "    </tr>\n",
       "    <tr>\n",
       "      <th>4336</th>\n",
       "      <td>Hyundai i20 Magna 1.4 CRDi</td>\n",
       "      <td>2014</td>\n",
       "      <td>409999</td>\n",
       "      <td>80000</td>\n",
       "      <td>Diesel</td>\n",
       "      <td>Individual</td>\n",
       "      <td>Manual</td>\n",
       "      <td>Second Owner</td>\n",
       "    </tr>\n",
       "    <tr>\n",
       "      <th>4337</th>\n",
       "      <td>Maruti 800 AC BSIII</td>\n",
       "      <td>2009</td>\n",
       "      <td>110000</td>\n",
       "      <td>83000</td>\n",
       "      <td>Petrol</td>\n",
       "      <td>Individual</td>\n",
       "      <td>Manual</td>\n",
       "      <td>Second Owner</td>\n",
       "    </tr>\n",
       "    <tr>\n",
       "      <th>4338</th>\n",
       "      <td>Hyundai Creta 1.6 CRDi SX Option</td>\n",
       "      <td>2016</td>\n",
       "      <td>865000</td>\n",
       "      <td>90000</td>\n",
       "      <td>Diesel</td>\n",
       "      <td>Individual</td>\n",
       "      <td>Manual</td>\n",
       "      <td>First Owner</td>\n",
       "    </tr>\n",
       "    <tr>\n",
       "      <th>4339</th>\n",
       "      <td>Renault KWID RXT</td>\n",
       "      <td>2016</td>\n",
       "      <td>225000</td>\n",
       "      <td>40000</td>\n",
       "      <td>Petrol</td>\n",
       "      <td>Individual</td>\n",
       "      <td>Manual</td>\n",
       "      <td>First Owner</td>\n",
       "    </tr>\n",
       "  </tbody>\n",
       "</table>\n",
       "</div>"
      ],
      "text/plain": [
       "                                     name  year  selling_price  km_driven  \\\n",
       "4335  Hyundai i20 Magna 1.4 CRDi (Diesel)  2014         409999      80000   \n",
       "4336           Hyundai i20 Magna 1.4 CRDi  2014         409999      80000   \n",
       "4337                  Maruti 800 AC BSIII  2009         110000      83000   \n",
       "4338     Hyundai Creta 1.6 CRDi SX Option  2016         865000      90000   \n",
       "4339                     Renault KWID RXT  2016         225000      40000   \n",
       "\n",
       "        fuel seller_type transmission         owner  \n",
       "4335  Diesel  Individual       Manual  Second Owner  \n",
       "4336  Diesel  Individual       Manual  Second Owner  \n",
       "4337  Petrol  Individual       Manual  Second Owner  \n",
       "4338  Diesel  Individual       Manual   First Owner  \n",
       "4339  Petrol  Individual       Manual   First Owner  "
      ]
     },
     "execution_count": 4,
     "metadata": {},
     "output_type": "execute_result"
    }
   ],
   "source": [
    "df.tail()"
   ]
  },
  {
   "cell_type": "markdown",
   "id": "a2a3b653",
   "metadata": {
    "papermill": {
     "duration": 0.013768,
     "end_time": "2022-11-01T05:17:16.453056",
     "exception": false,
     "start_time": "2022-11-01T05:17:16.439288",
     "status": "completed"
    },
    "tags": []
   },
   "source": [
    "<a id=\"3\"></a>\n",
    "# <p style=\"padding:10px;background-color:#27948b;margin:0;color:#e7d954;font-family:newtimeroman;font-size:100%;text-align:center;border-radius: 15px 50px;overflow:hidden;font-weight:500\">Exploratory Some Information About Dataset</p>"
   ]
  },
  {
   "cell_type": "code",
   "execution_count": 5,
   "id": "08d19e3d",
   "metadata": {
    "execution": {
     "iopub.execute_input": "2022-11-01T05:17:16.481282Z",
     "iopub.status.busy": "2022-11-01T05:17:16.480710Z",
     "iopub.status.idle": "2022-11-01T05:17:16.509083Z",
     "shell.execute_reply": "2022-11-01T05:17:16.508180Z"
    },
    "papermill": {
     "duration": 0.045185,
     "end_time": "2022-11-01T05:17:16.511429",
     "exception": false,
     "start_time": "2022-11-01T05:17:16.466244",
     "status": "completed"
    },
    "tags": []
   },
   "outputs": [
    {
     "name": "stdout",
     "output_type": "stream",
     "text": [
      "<class 'pandas.core.frame.DataFrame'>\n",
      "RangeIndex: 4340 entries, 0 to 4339\n",
      "Data columns (total 8 columns):\n",
      " #   Column         Non-Null Count  Dtype \n",
      "---  ------         --------------  ----- \n",
      " 0   name           4340 non-null   object\n",
      " 1   year           4340 non-null   int64 \n",
      " 2   selling_price  4340 non-null   int64 \n",
      " 3   km_driven      4340 non-null   int64 \n",
      " 4   fuel           4340 non-null   object\n",
      " 5   seller_type    4340 non-null   object\n",
      " 6   transmission   4340 non-null   object\n",
      " 7   owner          4340 non-null   object\n",
      "dtypes: int64(3), object(5)\n",
      "memory usage: 271.4+ KB\n"
     ]
    }
   ],
   "source": [
    "df.info()"
   ]
  },
  {
   "cell_type": "markdown",
   "id": "b1ecb1fb",
   "metadata": {
    "papermill": {
     "duration": 0.013107,
     "end_time": "2022-11-01T05:17:16.537772",
     "exception": false,
     "start_time": "2022-11-01T05:17:16.524665",
     "status": "completed"
    },
    "tags": []
   },
   "source": [
    "<div style=\"color:yellow;\n",
    "           display:fill;\n",
    "           border-radius:25px;\n",
    "           background-color:#27948b;\n",
    "           font-size:110%;\n",
    "           font-family:Verdana;\n",
    "           letter-spacing:0.5px\">\n",
    "<p style=\"padding: 10px;\n",
    "           color:#e7d954;\">Here is the row count and type of each column\n",
    "</p>\n",
    "</div>"
   ]
  },
  {
   "cell_type": "code",
   "execution_count": 6,
   "id": "4d6d766e",
   "metadata": {
    "execution": {
     "iopub.execute_input": "2022-11-01T05:17:16.566625Z",
     "iopub.status.busy": "2022-11-01T05:17:16.566082Z",
     "iopub.status.idle": "2022-11-01T05:17:16.571555Z",
     "shell.execute_reply": "2022-11-01T05:17:16.570527Z"
    },
    "papermill": {
     "duration": 0.022064,
     "end_time": "2022-11-01T05:17:16.573294",
     "exception": false,
     "start_time": "2022-11-01T05:17:16.551230",
     "status": "completed"
    },
    "tags": []
   },
   "outputs": [
    {
     "data": {
      "text/plain": [
       "(4340, 8)"
      ]
     },
     "execution_count": 6,
     "metadata": {},
     "output_type": "execute_result"
    }
   ],
   "source": [
    "df.shape"
   ]
  },
  {
   "cell_type": "markdown",
   "id": "6bfbe358",
   "metadata": {
    "papermill": {
     "duration": 0.012043,
     "end_time": "2022-11-01T05:17:16.599005",
     "exception": false,
     "start_time": "2022-11-01T05:17:16.586962",
     "status": "completed"
    },
    "tags": []
   },
   "source": [
    "<div style=\"color:yellow;\n",
    "           display:fill;\n",
    "           border-radius:25px;\n",
    "           background-color:#27948b;\n",
    "           font-size:110%;\n",
    "           font-family:Verdana;\n",
    "           letter-spacing:0.5px\">\n",
    "<p style=\"padding: 10px;\n",
    "           color:#e7d954;\">This code gives us the column and row information of the dataset.\n",
    "</p>\n",
    "</div>"
   ]
  },
  {
   "cell_type": "code",
   "execution_count": 7,
   "id": "c7bd164b",
   "metadata": {
    "execution": {
     "iopub.execute_input": "2022-11-01T05:17:16.625929Z",
     "iopub.status.busy": "2022-11-01T05:17:16.625393Z",
     "iopub.status.idle": "2022-11-01T05:17:16.647623Z",
     "shell.execute_reply": "2022-11-01T05:17:16.646249Z"
    },
    "papermill": {
     "duration": 0.038569,
     "end_time": "2022-11-01T05:17:16.649920",
     "exception": false,
     "start_time": "2022-11-01T05:17:16.611351",
     "status": "completed"
    },
    "tags": []
   },
   "outputs": [
    {
     "data": {
      "text/html": [
       "<div>\n",
       "<style scoped>\n",
       "    .dataframe tbody tr th:only-of-type {\n",
       "        vertical-align: middle;\n",
       "    }\n",
       "\n",
       "    .dataframe tbody tr th {\n",
       "        vertical-align: top;\n",
       "    }\n",
       "\n",
       "    .dataframe thead th {\n",
       "        text-align: right;\n",
       "    }\n",
       "</style>\n",
       "<table border=\"1\" class=\"dataframe\">\n",
       "  <thead>\n",
       "    <tr style=\"text-align: right;\">\n",
       "      <th></th>\n",
       "      <th>year</th>\n",
       "      <th>selling_price</th>\n",
       "      <th>km_driven</th>\n",
       "    </tr>\n",
       "  </thead>\n",
       "  <tbody>\n",
       "    <tr>\n",
       "      <th>count</th>\n",
       "      <td>4340.000000</td>\n",
       "      <td>4.340000e+03</td>\n",
       "      <td>4340.000000</td>\n",
       "    </tr>\n",
       "    <tr>\n",
       "      <th>mean</th>\n",
       "      <td>2013.090783</td>\n",
       "      <td>5.041273e+05</td>\n",
       "      <td>66215.777419</td>\n",
       "    </tr>\n",
       "    <tr>\n",
       "      <th>std</th>\n",
       "      <td>4.215344</td>\n",
       "      <td>5.785487e+05</td>\n",
       "      <td>46644.102194</td>\n",
       "    </tr>\n",
       "    <tr>\n",
       "      <th>min</th>\n",
       "      <td>1992.000000</td>\n",
       "      <td>2.000000e+04</td>\n",
       "      <td>1.000000</td>\n",
       "    </tr>\n",
       "    <tr>\n",
       "      <th>25%</th>\n",
       "      <td>2011.000000</td>\n",
       "      <td>2.087498e+05</td>\n",
       "      <td>35000.000000</td>\n",
       "    </tr>\n",
       "    <tr>\n",
       "      <th>50%</th>\n",
       "      <td>2014.000000</td>\n",
       "      <td>3.500000e+05</td>\n",
       "      <td>60000.000000</td>\n",
       "    </tr>\n",
       "    <tr>\n",
       "      <th>75%</th>\n",
       "      <td>2016.000000</td>\n",
       "      <td>6.000000e+05</td>\n",
       "      <td>90000.000000</td>\n",
       "    </tr>\n",
       "    <tr>\n",
       "      <th>max</th>\n",
       "      <td>2020.000000</td>\n",
       "      <td>8.900000e+06</td>\n",
       "      <td>806599.000000</td>\n",
       "    </tr>\n",
       "  </tbody>\n",
       "</table>\n",
       "</div>"
      ],
      "text/plain": [
       "              year  selling_price      km_driven\n",
       "count  4340.000000   4.340000e+03    4340.000000\n",
       "mean   2013.090783   5.041273e+05   66215.777419\n",
       "std       4.215344   5.785487e+05   46644.102194\n",
       "min    1992.000000   2.000000e+04       1.000000\n",
       "25%    2011.000000   2.087498e+05   35000.000000\n",
       "50%    2014.000000   3.500000e+05   60000.000000\n",
       "75%    2016.000000   6.000000e+05   90000.000000\n",
       "max    2020.000000   8.900000e+06  806599.000000"
      ]
     },
     "execution_count": 7,
     "metadata": {},
     "output_type": "execute_result"
    }
   ],
   "source": [
    "df.describe()"
   ]
  },
  {
   "cell_type": "markdown",
   "id": "98374532",
   "metadata": {
    "papermill": {
     "duration": 0.013326,
     "end_time": "2022-11-01T05:17:16.676856",
     "exception": false,
     "start_time": "2022-11-01T05:17:16.663530",
     "status": "completed"
    },
    "tags": []
   },
   "source": [
    "<div style=\"color:yellow;\n",
    "           display:fill;\n",
    "           border-radius:25px;\n",
    "           background-color:#27948b;\n",
    "           font-size:110%;\n",
    "           font-family:Verdana;\n",
    "           letter-spacing:0.5px\">\n",
    "<p style=\"padding: 10px;\n",
    "           color:#e7d954;\">This code shows us some values ​​of numerical values ​​such as mean, standard deviation, minimum, maximum.\n",
    "</p>\n",
    "</div>"
   ]
  },
  {
   "cell_type": "code",
   "execution_count": 8,
   "id": "a9782360",
   "metadata": {},
   "outputs": [
    {
     "data": {
      "text/html": [
       "<div>\n",
       "<style scoped>\n",
       "    .dataframe tbody tr th:only-of-type {\n",
       "        vertical-align: middle;\n",
       "    }\n",
       "\n",
       "    .dataframe tbody tr th {\n",
       "        vertical-align: top;\n",
       "    }\n",
       "\n",
       "    .dataframe thead th {\n",
       "        text-align: right;\n",
       "    }\n",
       "</style>\n",
       "<table border=\"1\" class=\"dataframe\">\n",
       "  <thead>\n",
       "    <tr style=\"text-align: right;\">\n",
       "      <th></th>\n",
       "      <th>name</th>\n",
       "      <th>year</th>\n",
       "      <th>selling_price</th>\n",
       "      <th>km_driven</th>\n",
       "      <th>fuel</th>\n",
       "      <th>seller_type</th>\n",
       "      <th>transmission</th>\n",
       "      <th>owner</th>\n",
       "    </tr>\n",
       "  </thead>\n",
       "  <tbody>\n",
       "    <tr>\n",
       "      <th>0</th>\n",
       "      <td>False</td>\n",
       "      <td>False</td>\n",
       "      <td>False</td>\n",
       "      <td>False</td>\n",
       "      <td>False</td>\n",
       "      <td>False</td>\n",
       "      <td>False</td>\n",
       "      <td>False</td>\n",
       "    </tr>\n",
       "    <tr>\n",
       "      <th>1</th>\n",
       "      <td>False</td>\n",
       "      <td>False</td>\n",
       "      <td>False</td>\n",
       "      <td>False</td>\n",
       "      <td>False</td>\n",
       "      <td>False</td>\n",
       "      <td>False</td>\n",
       "      <td>False</td>\n",
       "    </tr>\n",
       "    <tr>\n",
       "      <th>2</th>\n",
       "      <td>False</td>\n",
       "      <td>False</td>\n",
       "      <td>False</td>\n",
       "      <td>False</td>\n",
       "      <td>False</td>\n",
       "      <td>False</td>\n",
       "      <td>False</td>\n",
       "      <td>False</td>\n",
       "    </tr>\n",
       "    <tr>\n",
       "      <th>3</th>\n",
       "      <td>False</td>\n",
       "      <td>False</td>\n",
       "      <td>False</td>\n",
       "      <td>False</td>\n",
       "      <td>False</td>\n",
       "      <td>False</td>\n",
       "      <td>False</td>\n",
       "      <td>False</td>\n",
       "    </tr>\n",
       "    <tr>\n",
       "      <th>4</th>\n",
       "      <td>False</td>\n",
       "      <td>False</td>\n",
       "      <td>False</td>\n",
       "      <td>False</td>\n",
       "      <td>False</td>\n",
       "      <td>False</td>\n",
       "      <td>False</td>\n",
       "      <td>False</td>\n",
       "    </tr>\n",
       "    <tr>\n",
       "      <th>...</th>\n",
       "      <td>...</td>\n",
       "      <td>...</td>\n",
       "      <td>...</td>\n",
       "      <td>...</td>\n",
       "      <td>...</td>\n",
       "      <td>...</td>\n",
       "      <td>...</td>\n",
       "      <td>...</td>\n",
       "    </tr>\n",
       "    <tr>\n",
       "      <th>4335</th>\n",
       "      <td>False</td>\n",
       "      <td>False</td>\n",
       "      <td>False</td>\n",
       "      <td>False</td>\n",
       "      <td>False</td>\n",
       "      <td>False</td>\n",
       "      <td>False</td>\n",
       "      <td>False</td>\n",
       "    </tr>\n",
       "    <tr>\n",
       "      <th>4336</th>\n",
       "      <td>False</td>\n",
       "      <td>False</td>\n",
       "      <td>False</td>\n",
       "      <td>False</td>\n",
       "      <td>False</td>\n",
       "      <td>False</td>\n",
       "      <td>False</td>\n",
       "      <td>False</td>\n",
       "    </tr>\n",
       "    <tr>\n",
       "      <th>4337</th>\n",
       "      <td>False</td>\n",
       "      <td>False</td>\n",
       "      <td>False</td>\n",
       "      <td>False</td>\n",
       "      <td>False</td>\n",
       "      <td>False</td>\n",
       "      <td>False</td>\n",
       "      <td>False</td>\n",
       "    </tr>\n",
       "    <tr>\n",
       "      <th>4338</th>\n",
       "      <td>False</td>\n",
       "      <td>False</td>\n",
       "      <td>False</td>\n",
       "      <td>False</td>\n",
       "      <td>False</td>\n",
       "      <td>False</td>\n",
       "      <td>False</td>\n",
       "      <td>False</td>\n",
       "    </tr>\n",
       "    <tr>\n",
       "      <th>4339</th>\n",
       "      <td>False</td>\n",
       "      <td>False</td>\n",
       "      <td>False</td>\n",
       "      <td>False</td>\n",
       "      <td>False</td>\n",
       "      <td>False</td>\n",
       "      <td>False</td>\n",
       "      <td>False</td>\n",
       "    </tr>\n",
       "  </tbody>\n",
       "</table>\n",
       "<p>4340 rows × 8 columns</p>\n",
       "</div>"
      ],
      "text/plain": [
       "       name   year  selling_price  km_driven   fuel  seller_type  \\\n",
       "0     False  False          False      False  False        False   \n",
       "1     False  False          False      False  False        False   \n",
       "2     False  False          False      False  False        False   \n",
       "3     False  False          False      False  False        False   \n",
       "4     False  False          False      False  False        False   \n",
       "...     ...    ...            ...        ...    ...          ...   \n",
       "4335  False  False          False      False  False        False   \n",
       "4336  False  False          False      False  False        False   \n",
       "4337  False  False          False      False  False        False   \n",
       "4338  False  False          False      False  False        False   \n",
       "4339  False  False          False      False  False        False   \n",
       "\n",
       "      transmission  owner  \n",
       "0            False  False  \n",
       "1            False  False  \n",
       "2            False  False  \n",
       "3            False  False  \n",
       "4            False  False  \n",
       "...            ...    ...  \n",
       "4335         False  False  \n",
       "4336         False  False  \n",
       "4337         False  False  \n",
       "4338         False  False  \n",
       "4339         False  False  \n",
       "\n",
       "[4340 rows x 8 columns]"
      ]
     },
     "execution_count": 8,
     "metadata": {},
     "output_type": "execute_result"
    }
   ],
   "source": [
    "df.isnull()"
   ]
  },
  {
   "cell_type": "code",
   "execution_count": 9,
   "id": "9a2c6cca",
   "metadata": {
    "execution": {
     "iopub.execute_input": "2022-11-01T05:17:16.704957Z",
     "iopub.status.busy": "2022-11-01T05:17:16.704639Z",
     "iopub.status.idle": "2022-11-01T05:17:16.712044Z",
     "shell.execute_reply": "2022-11-01T05:17:16.711469Z"
    },
    "papermill": {
     "duration": 0.02327,
     "end_time": "2022-11-01T05:17:16.713682",
     "exception": false,
     "start_time": "2022-11-01T05:17:16.690412",
     "status": "completed"
    },
    "tags": []
   },
   "outputs": [
    {
     "data": {
      "text/plain": [
       "name             0\n",
       "year             0\n",
       "selling_price    0\n",
       "km_driven        0\n",
       "fuel             0\n",
       "seller_type      0\n",
       "transmission     0\n",
       "owner            0\n",
       "dtype: int64"
      ]
     },
     "execution_count": 9,
     "metadata": {},
     "output_type": "execute_result"
    }
   ],
   "source": [
    "df.isnull().sum()"
   ]
  },
  {
   "cell_type": "markdown",
   "id": "d74b05fc",
   "metadata": {
    "papermill": {
     "duration": 0.013483,
     "end_time": "2022-11-01T05:17:16.741095",
     "exception": false,
     "start_time": "2022-11-01T05:17:16.727612",
     "status": "completed"
    },
    "tags": []
   },
   "source": [
    "<div style=\"color:yellow;\n",
    "           display:fill;\n",
    "           border-radius:25px;\n",
    "           background-color:#27948b;\n",
    "           font-size:110%;\n",
    "           font-family:Verdana;\n",
    "           letter-spacing:0.5px\">\n",
    "<p style=\"padding: 10px;\n",
    "           color:#e7d954;\">This code gives us the number of null values ​​in the dataset.</p>\n",
    "</div>"
   ]
  },
  {
   "cell_type": "code",
   "execution_count": 10,
   "id": "2dc21907",
   "metadata": {
    "execution": {
     "iopub.execute_input": "2022-11-01T05:17:16.774424Z",
     "iopub.status.busy": "2022-11-01T05:17:16.774065Z",
     "iopub.status.idle": "2022-11-01T05:17:16.779348Z",
     "shell.execute_reply": "2022-11-01T05:17:16.778390Z"
    },
    "papermill": {
     "duration": 0.02471,
     "end_time": "2022-11-01T05:17:16.781739",
     "exception": false,
     "start_time": "2022-11-01T05:17:16.757029",
     "status": "completed"
    },
    "tags": []
   },
   "outputs": [
    {
     "data": {
      "text/plain": [
       "Index(['name', 'year', 'selling_price', 'km_driven', 'fuel', 'seller_type',\n",
       "       'transmission', 'owner'],\n",
       "      dtype='object')"
      ]
     },
     "execution_count": 10,
     "metadata": {},
     "output_type": "execute_result"
    }
   ],
   "source": [
    "df.columns"
   ]
  },
  {
   "cell_type": "markdown",
   "id": "efee3e72",
   "metadata": {
    "papermill": {
     "duration": 0.013249,
     "end_time": "2022-11-01T05:17:16.808733",
     "exception": false,
     "start_time": "2022-11-01T05:17:16.795484",
     "status": "completed"
    },
    "tags": []
   },
   "source": [
    "<div style=\"color:yellow;\n",
    "           display:fill;\n",
    "           border-radius:25px;\n",
    "           background-color:#27948b;\n",
    "           font-size:110%;\n",
    "           font-family:Verdana;\n",
    "           letter-spacing:0.5px\">\n",
    "<p style=\"padding: 10px;\n",
    "           color:#e7d954;\">This code gives us the names of the columns.\n",
    "</p>\n",
    "</div>"
   ]
  },
  {
   "cell_type": "code",
   "execution_count": 11,
   "id": "54037ef1",
   "metadata": {},
   "outputs": [
    {
     "data": {
      "text/plain": [
       "0               Maruti 800 AC\n",
       "1    Maruti Wagon R LXI Minor\n",
       "2        Hyundai Verna 1.6 SX\n",
       "3      Datsun RediGO T Option\n",
       "4       Honda Amaze VX i-DTEC\n",
       "Name: name, dtype: object"
      ]
     },
     "execution_count": 11,
     "metadata": {},
     "output_type": "execute_result"
    }
   ],
   "source": [
    "df[\"name\"].head()"
   ]
  },
  {
   "cell_type": "markdown",
   "id": "0a31a7bb",
   "metadata": {},
   "source": [
    "## This code gives us Top 5 rows from the name column."
   ]
  },
  {
   "cell_type": "code",
   "execution_count": 12,
   "id": "8c700559",
   "metadata": {
    "scrolled": true
   },
   "outputs": [
    {
     "data": {
      "text/plain": [
       "0        Maruti\n",
       "1        Maruti\n",
       "2       Hyundai\n",
       "3        Datsun\n",
       "4         Honda\n",
       "         ...   \n",
       "4335    Hyundai\n",
       "4336    Hyundai\n",
       "4337     Maruti\n",
       "4338    Hyundai\n",
       "4339    Renault\n",
       "Name: name_2, Length: 4340, dtype: object"
      ]
     },
     "execution_count": 12,
     "metadata": {},
     "output_type": "execute_result"
    }
   ],
   "source": [
    "def first_word(s):\n",
    "    return s.split()[0]\n",
    "\n",
    "df[\"name_2\"] = df.name.apply(first_word)\n",
    "df['name_2']"
   ]
  },
  {
   "cell_type": "markdown",
   "id": "02d88cf6",
   "metadata": {
    "papermill": {
     "duration": 0.013737,
     "end_time": "2022-11-01T05:17:16.887026",
     "exception": false,
     "start_time": "2022-11-01T05:17:16.873289",
     "status": "completed"
    },
    "tags": []
   },
   "source": [
    "<div style=\"color:yellow;\n",
    "           display:fill;\n",
    "           border-radius:25px;\n",
    "           background-color:#27948b;\n",
    "           font-size:110%;\n",
    "           font-family:Verdana;\n",
    "           letter-spacing:0.5px\">\n",
    "<p style=\"padding: 10px;\n",
    "           color:#e7d954;\">This line of code is the separation process to identify the make of the car models in the column named \"name\".\n",
    "    The column named \"name\" is then saved as a new variable \"name_2\".\n",
    "</p>\n",
    "</div>"
   ]
  },
  {
   "cell_type": "code",
   "execution_count": 13,
   "id": "9f37725a",
   "metadata": {
    "scrolled": true
   },
   "outputs": [
    {
     "data": {
      "text/html": [
       "<div>\n",
       "<style scoped>\n",
       "    .dataframe tbody tr th:only-of-type {\n",
       "        vertical-align: middle;\n",
       "    }\n",
       "\n",
       "    .dataframe tbody tr th {\n",
       "        vertical-align: top;\n",
       "    }\n",
       "\n",
       "    .dataframe thead th {\n",
       "        text-align: right;\n",
       "    }\n",
       "</style>\n",
       "<table border=\"1\" class=\"dataframe\">\n",
       "  <thead>\n",
       "    <tr style=\"text-align: right;\">\n",
       "      <th></th>\n",
       "      <th>name</th>\n",
       "      <th>year</th>\n",
       "      <th>selling_price</th>\n",
       "      <th>km_driven</th>\n",
       "      <th>fuel</th>\n",
       "      <th>seller_type</th>\n",
       "      <th>transmission</th>\n",
       "      <th>owner</th>\n",
       "      <th>name_2</th>\n",
       "    </tr>\n",
       "  </thead>\n",
       "  <tbody>\n",
       "    <tr>\n",
       "      <th>0</th>\n",
       "      <td>Maruti 800 AC</td>\n",
       "      <td>2007</td>\n",
       "      <td>60000</td>\n",
       "      <td>70000</td>\n",
       "      <td>Petrol</td>\n",
       "      <td>Individual</td>\n",
       "      <td>Manual</td>\n",
       "      <td>First Owner</td>\n",
       "      <td>Maruti</td>\n",
       "    </tr>\n",
       "    <tr>\n",
       "      <th>1</th>\n",
       "      <td>Maruti Wagon R LXI Minor</td>\n",
       "      <td>2007</td>\n",
       "      <td>135000</td>\n",
       "      <td>50000</td>\n",
       "      <td>Petrol</td>\n",
       "      <td>Individual</td>\n",
       "      <td>Manual</td>\n",
       "      <td>First Owner</td>\n",
       "      <td>Maruti</td>\n",
       "    </tr>\n",
       "    <tr>\n",
       "      <th>2</th>\n",
       "      <td>Hyundai Verna 1.6 SX</td>\n",
       "      <td>2012</td>\n",
       "      <td>600000</td>\n",
       "      <td>100000</td>\n",
       "      <td>Diesel</td>\n",
       "      <td>Individual</td>\n",
       "      <td>Manual</td>\n",
       "      <td>First Owner</td>\n",
       "      <td>Hyundai</td>\n",
       "    </tr>\n",
       "    <tr>\n",
       "      <th>3</th>\n",
       "      <td>Datsun RediGO T Option</td>\n",
       "      <td>2017</td>\n",
       "      <td>250000</td>\n",
       "      <td>46000</td>\n",
       "      <td>Petrol</td>\n",
       "      <td>Individual</td>\n",
       "      <td>Manual</td>\n",
       "      <td>First Owner</td>\n",
       "      <td>Datsun</td>\n",
       "    </tr>\n",
       "    <tr>\n",
       "      <th>4</th>\n",
       "      <td>Honda Amaze VX i-DTEC</td>\n",
       "      <td>2014</td>\n",
       "      <td>450000</td>\n",
       "      <td>141000</td>\n",
       "      <td>Diesel</td>\n",
       "      <td>Individual</td>\n",
       "      <td>Manual</td>\n",
       "      <td>Second Owner</td>\n",
       "      <td>Honda</td>\n",
       "    </tr>\n",
       "  </tbody>\n",
       "</table>\n",
       "</div>"
      ],
      "text/plain": [
       "                       name  year  selling_price  km_driven    fuel  \\\n",
       "0             Maruti 800 AC  2007          60000      70000  Petrol   \n",
       "1  Maruti Wagon R LXI Minor  2007         135000      50000  Petrol   \n",
       "2      Hyundai Verna 1.6 SX  2012         600000     100000  Diesel   \n",
       "3    Datsun RediGO T Option  2017         250000      46000  Petrol   \n",
       "4     Honda Amaze VX i-DTEC  2014         450000     141000  Diesel   \n",
       "\n",
       "  seller_type transmission         owner   name_2  \n",
       "0  Individual       Manual   First Owner   Maruti  \n",
       "1  Individual       Manual   First Owner   Maruti  \n",
       "2  Individual       Manual   First Owner  Hyundai  \n",
       "3  Individual       Manual   First Owner   Datsun  \n",
       "4  Individual       Manual  Second Owner    Honda  "
      ]
     },
     "execution_count": 13,
     "metadata": {},
     "output_type": "execute_result"
    }
   ],
   "source": [
    "df.head()"
   ]
  },
  {
   "cell_type": "markdown",
   "id": "4f5dac10",
   "metadata": {},
   "source": [
    "## How to Create a function"
   ]
  },
  {
   "cell_type": "code",
   "execution_count": 14,
   "id": "b0fd17ef",
   "metadata": {},
   "outputs": [
    {
     "name": "stdout",
     "output_type": "stream",
     "text": [
      "25\n"
     ]
    }
   ],
   "source": [
    "# Defining the function\n",
    "def analytical_developer(a):\n",
    "    return a * a\n",
    "\n",
    "# Calling the function\n",
    "result = analytical_developer(5)\n",
    "print(result)"
   ]
  },
  {
   "cell_type": "markdown",
   "id": "87fb03c5",
   "metadata": {},
   "source": [
    "## Split Fuction"
   ]
  },
  {
   "cell_type": "code",
   "execution_count": 15,
   "id": "f3925c87",
   "metadata": {},
   "outputs": [
    {
     "name": "stdout",
     "output_type": "stream",
     "text": [
      "['Hello', 'world', 'welcome', 'to', 'Python']\n"
     ]
    }
   ],
   "source": [
    "# Syntax:- string.split(separator)\n",
    "\n",
    "text = \"Hello world welcome to Python\"\n",
    "result = text.split()  # Default splits by whitespace\n",
    "print(result)"
   ]
  },
  {
   "cell_type": "code",
   "execution_count": 16,
   "id": "08a19037",
   "metadata": {},
   "outputs": [
    {
     "name": "stdout",
     "output_type": "stream",
     "text": [
      "world\n"
     ]
    }
   ],
   "source": [
    "# Syntax:- string.split(separator)\n",
    "\n",
    "text = \"Hello world welcome to Python\"\n",
    "result = text.split()[1]  # Default splits by whitespace\n",
    "print(result)"
   ]
  },
  {
   "cell_type": "markdown",
   "id": "e4551978",
   "metadata": {
    "papermill": {
     "duration": 0.013334,
     "end_time": "2022-11-01T05:17:16.913311",
     "exception": false,
     "start_time": "2022-11-01T05:17:16.899977",
     "status": "completed"
    },
    "tags": []
   },
   "source": [
    "<a id=\"4\"></a>\n",
    "# <p style=\"padding:10px;background-color:#27948b;margin:0;color:#e7d954;font-family:newtimeroman;font-size:100%;text-align:center;border-radius: 15px 50px;overflow:hidden;font-weight:500\">Data Visualization</p>"
   ]
  },
  {
   "cell_type": "markdown",
   "id": "009745cc",
   "metadata": {},
   "source": [
    "# 1. Which car is the best-selling in the company?\n"
   ]
  },
  {
   "cell_type": "code",
   "execution_count": 17,
   "id": "5abe4b31",
   "metadata": {
    "execution": {
     "iopub.execute_input": "2022-11-01T05:17:16.943837Z",
     "iopub.status.busy": "2022-11-01T05:17:16.943497Z",
     "iopub.status.idle": "2022-11-01T05:17:16.955590Z",
     "shell.execute_reply": "2022-11-01T05:17:16.953432Z"
    },
    "papermill": {
     "duration": 0.030492,
     "end_time": "2022-11-01T05:17:16.958474",
     "exception": false,
     "start_time": "2022-11-01T05:17:16.927982",
     "status": "completed"
    },
    "tags": []
   },
   "outputs": [
    {
     "data": {
      "text/plain": [
       "name_2\n",
       "Maruti           1280\n",
       "Hyundai           821\n",
       "Mahindra          365\n",
       "Tata              361\n",
       "Honda             252\n",
       "Ford              238\n",
       "Toyota            206\n",
       "Chevrolet         188\n",
       "Renault           146\n",
       "Volkswagen        107\n",
       "Skoda              68\n",
       "Nissan             64\n",
       "Audi               60\n",
       "BMW                39\n",
       "Fiat               37\n",
       "Datsun             37\n",
       "Mercedes-Benz      35\n",
       "Jaguar              6\n",
       "Mitsubishi          6\n",
       "Land                5\n",
       "Volvo               4\n",
       "Ambassador          4\n",
       "Jeep                3\n",
       "MG                  2\n",
       "OpelCorsa           2\n",
       "Daewoo              1\n",
       "Force               1\n",
       "Isuzu               1\n",
       "Kia                 1\n",
       "Name: count, dtype: int64"
      ]
     },
     "execution_count": 17,
     "metadata": {},
     "output_type": "execute_result"
    }
   ],
   "source": [
    "df.name_2.value_counts()"
   ]
  },
  {
   "cell_type": "code",
   "execution_count": 18,
   "id": "6323e684",
   "metadata": {
    "execution": {
     "iopub.execute_input": "2022-11-01T05:17:16.996529Z",
     "iopub.status.busy": "2022-11-01T05:17:16.996069Z",
     "iopub.status.idle": "2022-11-01T05:17:17.364983Z",
     "shell.execute_reply": "2022-11-01T05:17:17.363423Z"
    },
    "papermill": {
     "duration": 0.392249,
     "end_time": "2022-11-01T05:17:17.368656",
     "exception": false,
     "start_time": "2022-11-01T05:17:16.976407",
     "status": "completed"
    },
    "tags": []
   },
   "outputs": [
    {
     "data": {
      "image/png": "[encoded data removed]",
      "text/plain": [
       "<Figure size 640x480 with 1 Axes>"
      ]
     },
     "metadata": {},
     "output_type": "display_data"
    }
   ],
   "source": [
    "sns.countplot(data=df,x=\"name_2\",palette=\"CMRmap\")\n",
    "\n",
    "plt.xticks(rotation=90)\n",
    "plt.xlabel(\"Name\",fontsize=10,color=\"black\")\n",
    "plt.ylabel(\"Name\",fontsize=10,color=\"black\")\n",
    "plt.title(\"NAME COUNT\",color=\"black\")\n",
    "\n",
    "\n",
    "plt.show()"
   ]
  },
  {
   "cell_type": "markdown",
   "id": "187403e8",
   "metadata": {
    "papermill": {
     "duration": 0.013576,
     "end_time": "2022-11-01T05:17:17.397040",
     "exception": false,
     "start_time": "2022-11-01T05:17:17.383464",
     "status": "completed"
    },
    "tags": []
   },
   "source": [
    "<div style=\"color:yellow;\n",
    "           display:fill;\n",
    "           border-radius:25px;\n",
    "           background-color:#27948b;\n",
    "           font-size:110%;\n",
    "           font-family:Verdana;\n",
    "           letter-spacing:0.5px\">\n",
    "<p style=\"padding: 10px;\n",
    "           color:#e7d954;\"> The most common car model is the Maruti.\n",
    "    \n",
    "INFORMATION: Maruti Suzuki India Limited, formerly known as Maruti Udyog Limited, is an Indian automobile manufacturer, based in New Delhi.\n",
    "   \n",
    "</p>\n",
    "</div>"
   ]
  },
  {
   "cell_type": "code",
   "execution_count": 19,
   "id": "46b0afad",
   "metadata": {},
   "outputs": [
    {
     "data": {
      "image/png": "[encoded data removed]",
      "text/plain": [
       "<Figure size 800x800 with 1 Axes>"
      ]
     },
     "metadata": {},
     "output_type": "display_data"
    }
   ],
   "source": [
    "company_counts = df[\"name_2\"].value_counts()[:10]\n",
    "label_list = df[\"name_2\"].value_counts().index[:10]\n",
    "color_list = ['#ff9999','#66b3ff','#99ff99','#ffcc99',\"pink\",\"yellow\"]\n",
    "plt.figure(figsize = (8,8))\n",
    "\n",
    "\n",
    "plt.title('name',color = 'red',fontsize = 15)\n",
    "\n",
    "plt.pie(company_counts, labels=label_list  ,colors=color_list,shadow=True, rotatelabels=False,autopct='%1.1f%%', startangle=45)\n",
    "plt.show()"
   ]
  },
  {
   "cell_type": "markdown",
   "id": "e8a8319c",
   "metadata": {},
   "source": [
    "# Piechart Parameters :\n",
    "\n",
    "1. company_counts\n",
    "2. labels \n",
    "3. colors \n",
    "4. shadow = True or false \n",
    "5. rotatelabels = True or false \n",
    "6. autopct ='%1.1f%%'   (show percentage of each category)\n",
    "7. startangle=45        (rotation of pie chart / which normally starts at 0 degrees, i.e., the 3 o'clock position )\n",
    "8. explode = [0,0,0,0.3,0.2]  (range of explode each element value is 0 to 1)"
   ]
  },
  {
   "cell_type": "code",
   "execution_count": 20,
   "id": "4c65346c",
   "metadata": {},
   "outputs": [
    {
     "data": {
      "text/plain": [
       "name_2\n",
       "Maruti           1280\n",
       "Hyundai           821\n",
       "Mahindra          365\n",
       "Tata              361\n",
       "Honda             252\n",
       "Ford              238\n",
       "Toyota            206\n",
       "Chevrolet         188\n",
       "Renault           146\n",
       "Volkswagen        107\n",
       "Skoda              68\n",
       "Nissan             64\n",
       "Audi               60\n",
       "BMW                39\n",
       "Fiat               37\n",
       "Datsun             37\n",
       "Mercedes-Benz      35\n",
       "Jaguar              6\n",
       "Mitsubishi          6\n",
       "Land                5\n",
       "Volvo               4\n",
       "Ambassador          4\n",
       "Jeep                3\n",
       "MG                  2\n",
       "OpelCorsa           2\n",
       "Daewoo              1\n",
       "Force               1\n",
       "Isuzu               1\n",
       "Kia                 1\n",
       "Name: count, dtype: int64"
      ]
     },
     "execution_count": 20,
     "metadata": {},
     "output_type": "execute_result"
    }
   ],
   "source": [
    "# car-selling companies and the total number of cars sold (Count the occurrences of each company)\n",
    "\n",
    "company_counts = df[\"name_2\"].value_counts()\n",
    "company_counts"
   ]
  },
  {
   "cell_type": "code",
   "execution_count": 21,
   "id": "efecda82",
   "metadata": {},
   "outputs": [
    {
     "data": {
      "text/plain": [
       "name_2\n",
       "Maruti        1280\n",
       "Hyundai        821\n",
       "Mahindra       365\n",
       "Tata           361\n",
       "Honda          252\n",
       "Ford           238\n",
       "Toyota         206\n",
       "Chevrolet      188\n",
       "Renault        146\n",
       "Volkswagen     107\n",
       "Name: count, dtype: int64"
      ]
     },
     "execution_count": 21,
     "metadata": {},
     "output_type": "execute_result"
    }
   ],
   "source": [
    "#Top 10 car-selling companies and the total number of cars sold\n",
    "\n",
    "Top_10 = df[\"name_2\"].value_counts()[:10]\n",
    "Top_10"
   ]
  },
  {
   "cell_type": "code",
   "execution_count": 22,
   "id": "cfa72e00",
   "metadata": {},
   "outputs": [
    {
     "data": {
      "text/plain": [
       "Index(['Maruti', 'Hyundai', 'Mahindra', 'Tata', 'Honda', 'Ford', 'Toyota',\n",
       "       'Chevrolet', 'Renault', 'Volkswagen', 'Skoda', 'Nissan', 'Audi', 'BMW',\n",
       "       'Fiat', 'Datsun', 'Mercedes-Benz', 'Jaguar', 'Mitsubishi', 'Land',\n",
       "       'Volvo', 'Ambassador', 'Jeep', 'MG', 'OpelCorsa', 'Daewoo', 'Force',\n",
       "       'Isuzu', 'Kia'],\n",
       "      dtype='object', name='name_2')"
      ]
     },
     "execution_count": 22,
     "metadata": {},
     "output_type": "execute_result"
    }
   ],
   "source": [
    "# car-selling companies name \n",
    "\n",
    "label_list = df[\"name_2\"].value_counts().index\n",
    "label_list"
   ]
  },
  {
   "cell_type": "code",
   "execution_count": 23,
   "id": "e1175b13",
   "metadata": {},
   "outputs": [
    {
     "data": {
      "text/plain": [
       "Index(['Maruti', 'Hyundai', 'Mahindra', 'Tata', 'Honda', 'Ford', 'Toyota',\n",
       "       'Chevrolet', 'Renault', 'Volkswagen'],\n",
       "      dtype='object', name='name_2')"
      ]
     },
     "execution_count": 23,
     "metadata": {},
     "output_type": "execute_result"
    }
   ],
   "source": [
    "# Top 10 car-selling companies name \n",
    "\n",
    "label_list = df[\"name_2\"].value_counts().index[:10]\n",
    "label_list"
   ]
  },
  {
   "cell_type": "markdown",
   "id": "a68c0df0",
   "metadata": {
    "papermill": {
     "duration": 0.022428,
     "end_time": "2022-11-01T05:17:17.675162",
     "exception": false,
     "start_time": "2022-11-01T05:17:17.652734",
     "status": "completed"
    },
    "tags": []
   },
   "source": [
    "<div style=\"color:yellow;\n",
    "           display:fill;\n",
    "           border-radius:25px;\n",
    "           background-color:#27948b;\n",
    "           font-size:110%;\n",
    "           font-family:Verdana;\n",
    "           letter-spacing:0.5px\">\n",
    "<p style=\"padding: 10px;\n",
    "           color:#e7d954;\">The most common car model is the Maruti. It is shown with pie table in this table.\n",
    "</p>\n",
    "</div>"
   ]
  },
  {
   "cell_type": "markdown",
   "id": "5fa9ffe4",
   "metadata": {
    "papermill": {
     "duration": 0.017213,
     "end_time": "2022-11-01T05:17:18.814765",
     "exception": false,
     "start_time": "2022-11-01T05:17:18.797552",
     "status": "completed"
    },
    "tags": []
   },
   "source": [
    "<div style=\"color:yellow;\n",
    "           display:fill;\n",
    "           border-radius:25px;\n",
    "           background-color:#27948b;\n",
    "           font-size:110%;\n",
    "           font-family:Verdana;\n",
    "           letter-spacing:0.5px\">\n",
    "<p style=\"padding: 10px;\n",
    "           color:#e7d954;\">Again, the most common type of car was the Maruti, followed by Hyundai. This is illustrated with a word cloud graphic.\n",
    "</p>\n",
    "</div>"
   ]
  },
  {
   "cell_type": "markdown",
   "id": "6e41523b",
   "metadata": {},
   "source": [
    "# 2. In which Year were The Most Sales made ?\n"
   ]
  },
  {
   "cell_type": "code",
   "execution_count": 24,
   "id": "83c022dd",
   "metadata": {
    "execution": {
     "iopub.execute_input": "2022-11-01T05:17:18.852391Z",
     "iopub.status.busy": "2022-11-01T05:17:18.852009Z",
     "iopub.status.idle": "2022-11-01T05:17:18.859340Z",
     "shell.execute_reply": "2022-11-01T05:17:18.858663Z"
    },
    "papermill": {
     "duration": 0.02855,
     "end_time": "2022-11-01T05:17:18.860889",
     "exception": false,
     "start_time": "2022-11-01T05:17:18.832339",
     "status": "completed"
    },
    "tags": []
   },
   "outputs": [
    {
     "data": {
      "text/plain": [
       "year\n",
       "2017    466\n",
       "2015    421\n",
       "2012    415\n",
       "2013    386\n",
       "2014    367\n",
       "2018    366\n",
       "2016    357\n",
       "2011    271\n",
       "2010    234\n",
       "2019    195\n",
       "2009    193\n",
       "2008    145\n",
       "2007    134\n",
       "2006    110\n",
       "2005     85\n",
       "2020     48\n",
       "2004     42\n",
       "2003     23\n",
       "2002     21\n",
       "2001     20\n",
       "1998     12\n",
       "2000     12\n",
       "1999     10\n",
       "1997      3\n",
       "1996      2\n",
       "1995      1\n",
       "1992      1\n",
       "Name: count, dtype: int64"
      ]
     },
     "execution_count": 24,
     "metadata": {},
     "output_type": "execute_result"
    }
   ],
   "source": [
    "df.year.value_counts()"
   ]
  },
  {
   "cell_type": "code",
   "execution_count": 25,
   "id": "afd6695b",
   "metadata": {},
   "outputs": [
    {
     "data": {
      "image/png": "[encoded data removed]",
      "text/plain": [
       "<Figure size 640x480 with 1 Axes>"
      ]
     },
     "metadata": {},
     "output_type": "display_data"
    }
   ],
   "source": [
    "sns.countplot(data=df,x=\"year\",palette=\"icefire\")\n",
    "\n",
    "plt.xticks(rotation=90)\n",
    "plt.xlabel(\"YEAR\",fontsize=10,color=\"RED\")\n",
    "plt.ylabel(\"COUNT\",fontsize=10,color=\"RED\")\n",
    "plt.title(\"YEAR COUNT\",color=\"RED\",fontsize=20)\n",
    "\n",
    "plt.show()"
   ]
  },
  {
   "cell_type": "code",
   "execution_count": 26,
   "id": "4ff33c65",
   "metadata": {},
   "outputs": [
    {
     "data": {
      "text/plain": [
       "Index([2017, 2015, 2012, 2013, 2014, 2018, 2016, 2011, 2010, 2019, 2009, 2008,\n",
       "       2007, 2006, 2005, 2020, 2004, 2003, 2002, 2001, 1998, 2000, 1999, 1997,\n",
       "       1996, 1995, 1992],\n",
       "      dtype='int64', name='year')"
      ]
     },
     "execution_count": 26,
     "metadata": {},
     "output_type": "execute_result"
    }
   ],
   "source": [
    "labels = df[\"year\"].value_counts().index\n",
    "labels"
   ]
  },
  {
   "cell_type": "code",
   "execution_count": 27,
   "id": "bdf0cb9a",
   "metadata": {},
   "outputs": [
    {
     "data": {
      "image/png": "[encoded data removed]",
      "text/plain": [
       "<Figure size 800x800 with 1 Axes>"
      ]
     },
     "metadata": {},
     "output_type": "display_data"
    }
   ],
   "source": [
    "label_list = df[\"year\"].value_counts().index[:10]\n",
    "sales_by_year = df[\"year\"].value_counts()[:10]\n",
    "\n",
    "colors = ['#ff9999','#66b3ff','#99ff99','#ffcc99',\"pink\",\"yellow\"]\n",
    "plt.figure(figsize = (8,8))\n",
    "plt.pie(sales_by_year, labels=label_list, rotatelabels=False, autopct='%1.1f%%',colors=colors,shadow=True, startangle=45)\n",
    "plt.title('Sales by Year',color = 'red',fontsize = 15)\n",
    "\n",
    "plt.show()"
   ]
  },
  {
   "cell_type": "markdown",
   "id": "99c49b5b",
   "metadata": {},
   "source": [
    "<div style=\"color:yellow;\n",
    "           display:fill;\n",
    "           border-radius:25px;\n",
    "           background-color:#27948b;\n",
    "           font-size:110%;\n",
    "           font-family:Verdana;\n",
    "           letter-spacing:0.5px\">\n",
    "<p style=\"padding: 10px;\n",
    "           color:#e7d954;\">Based on these data, we can say that Most sales were made in 2017. This is illustrated with a word cloud graphic.\n",
    "</p>\n",
    "</div>\n",
    "\n"
   ]
  },
  {
   "cell_type": "markdown",
   "id": "980a50f0",
   "metadata": {},
   "source": [
    "# 3. What was the most common type of fuel used by cars ? "
   ]
  },
  {
   "cell_type": "code",
   "execution_count": 28,
   "id": "906b5f30",
   "metadata": {
    "execution": {
     "iopub.execute_input": "2022-11-01T05:17:19.642388Z",
     "iopub.status.busy": "2022-11-01T05:17:19.642020Z",
     "iopub.status.idle": "2022-11-01T05:17:19.650301Z",
     "shell.execute_reply": "2022-11-01T05:17:19.649309Z"
    },
    "papermill": {
     "duration": 0.042694,
     "end_time": "2022-11-01T05:17:19.652688",
     "exception": false,
     "start_time": "2022-11-01T05:17:19.609994",
     "status": "completed"
    },
    "tags": []
   },
   "outputs": [
    {
     "data": {
      "text/plain": [
       "fuel\n",
       "Diesel      2153\n",
       "Petrol      2123\n",
       "CNG           40\n",
       "LPG           23\n",
       "Electric       1\n",
       "Name: count, dtype: int64"
      ]
     },
     "execution_count": 28,
     "metadata": {},
     "output_type": "execute_result"
    }
   ],
   "source": [
    "df.fuel.value_counts()"
   ]
  },
  {
   "cell_type": "code",
   "execution_count": 29,
   "id": "a990c775",
   "metadata": {
    "execution": {
     "iopub.execute_input": "2022-10-31T12:40:16.694151Z",
     "iopub.status.busy": "2022-10-31T12:40:16.693564Z",
     "iopub.status.idle": "2022-10-31T12:40:16.945269Z",
     "shell.execute_reply": "2022-10-31T12:40:16.944409Z",
     "shell.execute_reply.started": "2022-10-31T12:40:16.694117Z"
    },
    "papermill": {
     "duration": 0.02096,
     "end_time": "2022-11-01T05:17:19.694654",
     "exception": false,
     "start_time": "2022-11-01T05:17:19.673694",
     "status": "completed"
    },
    "tags": []
   },
   "outputs": [
    {
     "data": {
      "image/png": "[encoded data removed]",
      "text/plain": [
       "<Figure size 640x480 with 1 Axes>"
      ]
     },
     "metadata": {},
     "output_type": "display_data"
    }
   ],
   "source": [
    "sns.countplot(data=df, x= \"fuel\" ,palette=\"ocean\")\n",
    "\n",
    "plt.xlabel(\"FUEL\",fontsize=10,color=\"blue\")\n",
    "plt.ylabel(\"COUNT\",fontsize=10,color=\"blue\")\n",
    "plt.title(\"Number of Car Sales by Fuel\",color=\"b\",fontsize=20)\n",
    "\n",
    "plt.show()"
   ]
  },
  {
   "cell_type": "code",
   "execution_count": 30,
   "id": "7e035077",
   "metadata": {
    "execution": {
     "iopub.execute_input": "2022-11-01T05:17:19.776930Z",
     "iopub.status.busy": "2022-11-01T05:17:19.776595Z",
     "iopub.status.idle": "2022-11-01T05:17:19.916978Z",
     "shell.execute_reply": "2022-11-01T05:17:19.915995Z"
    },
    "papermill": {
     "duration": 0.164847,
     "end_time": "2022-11-01T05:17:19.919313",
     "exception": false,
     "start_time": "2022-11-01T05:17:19.754466",
     "status": "completed"
    },
    "tags": []
   },
   "outputs": [
    {
     "data": {
      "image/png": "[encoded data removed]",
      "text/plain": [
       "<Figure size 800x800 with 1 Axes>"
      ]
     },
     "metadata": {},
     "output_type": "display_data"
    }
   ],
   "source": [
    "labels = df[\"fuel\"].value_counts().index\n",
    "car_count_by_fuel = df[\"fuel\"].value_counts()\n",
    "colors = ['#ff9999','#66b3ff','#99ff99','#ffcc99',\"pink\",\"yellow\"]\n",
    "explode_part = [0,0,0,0.3,1]\n",
    "\n",
    "plt.figure(figsize = (8,8))\n",
    "plt.title('Car Sales Percentage by Fuel' ,color = 'blue',fontsize = 15)\n",
    "\n",
    "plt.pie(car_count_by_fuel, labels=labels, rotatelabels=False,explode=explode_part, autopct='%1.2f%%',colors=colors,shadow=True, startangle=0)\n",
    "\n",
    "plt.show()"
   ]
  },
  {
   "cell_type": "markdown",
   "id": "fc8e29e4",
   "metadata": {
    "papermill": {
     "duration": 0.019292,
     "end_time": "2022-11-01T05:17:19.733655",
     "exception": false,
     "start_time": "2022-11-01T05:17:19.714363",
     "status": "completed"
    },
    "tags": []
   },
   "source": [
    "<div style=\"color:yellow;\n",
    "           display:fill;\n",
    "           border-radius:25px;\n",
    "           background-color:#27948b;\n",
    "           font-size:110%;\n",
    "           font-family:Verdana;\n",
    "           letter-spacing:0.5px\">\n",
    "<p style=\"padding: 10px;\n",
    "           color:#e7d954;\">In this table, it is seen that the most common type of fuel is diesel, followed by petroleum.\n",
    "</p>\n",
    "</div>"
   ]
  },
  {
   "cell_type": "markdown",
   "id": "5f29579e",
   "metadata": {},
   "source": [
    "# 4. In which Sales types were Most of the sales made through individually , dealer or Trustmark Dealer ?\n"
   ]
  },
  {
   "cell_type": "code",
   "execution_count": 31,
   "id": "ac9a3b13",
   "metadata": {
    "execution": {
     "iopub.execute_input": "2022-11-01T05:17:19.978662Z",
     "iopub.status.busy": "2022-11-01T05:17:19.978340Z",
     "iopub.status.idle": "2022-11-01T05:17:19.987571Z",
     "shell.execute_reply": "2022-11-01T05:17:19.986541Z"
    },
    "papermill": {
     "duration": 0.041609,
     "end_time": "2022-11-01T05:17:19.989474",
     "exception": false,
     "start_time": "2022-11-01T05:17:19.947865",
     "status": "completed"
    },
    "tags": []
   },
   "outputs": [
    {
     "data": {
      "text/plain": [
       "seller_type\n",
       "Individual          3244\n",
       "Dealer               994\n",
       "Trustmark Dealer     102\n",
       "Name: count, dtype: int64"
      ]
     },
     "execution_count": 31,
     "metadata": {},
     "output_type": "execute_result"
    }
   ],
   "source": [
    "df.seller_type.value_counts()"
   ]
  },
  {
   "cell_type": "code",
   "execution_count": 32,
   "id": "9f1b6b71",
   "metadata": {
    "execution": {
     "iopub.execute_input": "2022-11-01T05:17:20.029761Z",
     "iopub.status.busy": "2022-11-01T05:17:20.029222Z",
     "iopub.status.idle": "2022-11-01T05:17:20.154755Z",
     "shell.execute_reply": "2022-11-01T05:17:20.153960Z"
    },
    "papermill": {
     "duration": 0.147912,
     "end_time": "2022-11-01T05:17:20.156706",
     "exception": false,
     "start_time": "2022-11-01T05:17:20.008794",
     "status": "completed"
    },
    "tags": []
   },
   "outputs": [
    {
     "data": {
      "image/png": "[encoded data removed]",
      "text/plain": [
       "<Figure size 640x480 with 1 Axes>"
      ]
     },
     "metadata": {},
     "output_type": "display_data"
    }
   ],
   "source": [
    "sns.countplot(data=df,x=\"seller_type\",palette=\"pink\")\n",
    "\n",
    "plt.xlabel(\"SELLER TYPE\",fontsize=10,color=\"brown\")\n",
    "plt.ylabel(\"COUNT\",fontsize=10,color=\"brown\")\n",
    "plt.title(\"SELLER TYPE COUNT\",color=\"brown\")\n",
    "\n",
    "plt.show()"
   ]
  },
  {
   "cell_type": "markdown",
   "id": "6b682ba7",
   "metadata": {
    "papermill": {
     "duration": 0.028767,
     "end_time": "2022-11-01T05:17:20.209811",
     "exception": false,
     "start_time": "2022-11-01T05:17:20.181044",
     "status": "completed"
    },
    "tags": []
   },
   "source": [
    "<div style=\"color:yellow;\n",
    "           display:fill;\n",
    "           border-radius:25px;\n",
    "           background-color:#27948b;\n",
    "           font-size:110%;\n",
    "           font-family:Verdana;\n",
    "           letter-spacing:0.5px\">\n",
    "<p style=\"padding: 10px;\n",
    "           color:#e7d954;\">This is a table showing where sales are made. Individual sales are the highest.\n",
    "</p>\n",
    "</div>"
   ]
  },
  {
   "cell_type": "code",
   "execution_count": 33,
   "id": "517fae95",
   "metadata": {
    "execution": {
     "iopub.execute_input": "2022-11-01T05:17:20.253231Z",
     "iopub.status.busy": "2022-11-01T05:17:20.252757Z",
     "iopub.status.idle": "2022-11-01T05:17:20.392842Z",
     "shell.execute_reply": "2022-11-01T05:17:20.392009Z"
    },
    "papermill": {
     "duration": 0.164845,
     "end_time": "2022-11-01T05:17:20.395010",
     "exception": false,
     "start_time": "2022-11-01T05:17:20.230165",
     "status": "completed"
    },
    "tags": []
   },
   "outputs": [
    {
     "data": {
      "image/png": "[encoded data removed]",
      "text/plain": [
       "<Figure size 1400x700 with 1 Axes>"
      ]
     },
     "metadata": {},
     "output_type": "display_data"
    }
   ],
   "source": [
    "plt.figure(figsize=(14, 7))\n",
    "labels=[\"Trustmark Dealer\",\"Dealer\",\"İndividual\"]\n",
    "seller_type_count = df['seller_type'].value_counts().sort_values()\n",
    "\n",
    "plt.title(\"SELLER TYPE COUNT PERCENTAGE\",color=\"orange\")\n",
    "\n",
    "plt.pie(seller_type_count,labels=labels,explode=[0.7,0,0],\n",
    "        autopct='%1.2f%%',colors=['gray','lightgreen',\"orange\"], startangle=30,shadow=True)\n",
    "plt.show()"
   ]
  },
  {
   "cell_type": "markdown",
   "id": "434ce3dc",
   "metadata": {
    "papermill": {
     "duration": 0.02872,
     "end_time": "2022-11-01T05:17:20.451621",
     "exception": false,
     "start_time": "2022-11-01T05:17:20.422901",
     "status": "completed"
    },
    "tags": []
   },
   "source": [
    "<div style=\"color:yellow;\n",
    "           display:fill;\n",
    "           border-radius:25px;\n",
    "           background-color:#27948b;\n",
    "           font-size:110%;\n",
    "           font-family:Verdana;\n",
    "           letter-spacing:0.5px\">\n",
    "<p style=\"padding: 10px;\n",
    "           color:#e7d954;\">This is the pie chart showing where the sales were made. Individual sales are highest.\n",
    "</p>\n",
    "</div>"
   ]
  },
  {
   "cell_type": "markdown",
   "id": "e6e1c0b9",
   "metadata": {},
   "source": [
    "# 5. Cars are usually manual or automatic ?"
   ]
  },
  {
   "cell_type": "code",
   "execution_count": 34,
   "id": "0e99de92",
   "metadata": {
    "execution": {
     "iopub.execute_input": "2022-11-01T05:17:20.495101Z",
     "iopub.status.busy": "2022-11-01T05:17:20.494588Z",
     "iopub.status.idle": "2022-11-01T05:17:20.500843Z",
     "shell.execute_reply": "2022-11-01T05:17:20.500267Z"
    },
    "papermill": {
     "duration": 0.029684,
     "end_time": "2022-11-01T05:17:20.502532",
     "exception": false,
     "start_time": "2022-11-01T05:17:20.472848",
     "status": "completed"
    },
    "tags": []
   },
   "outputs": [
    {
     "data": {
      "text/plain": [
       "transmission\n",
       "Manual       3892\n",
       "Automatic     448\n",
       "Name: count, dtype: int64"
      ]
     },
     "execution_count": 34,
     "metadata": {},
     "output_type": "execute_result"
    }
   ],
   "source": [
    "df.transmission.value_counts()"
   ]
  },
  {
   "cell_type": "code",
   "execution_count": 35,
   "id": "f97bf970",
   "metadata": {
    "execution": {
     "iopub.execute_input": "2022-11-01T05:17:20.545025Z",
     "iopub.status.busy": "2022-11-01T05:17:20.544553Z",
     "iopub.status.idle": "2022-11-01T05:17:20.686411Z",
     "shell.execute_reply": "2022-11-01T05:17:20.685237Z"
    },
    "papermill": {
     "duration": 0.165954,
     "end_time": "2022-11-01T05:17:20.688743",
     "exception": false,
     "start_time": "2022-11-01T05:17:20.522789",
     "status": "completed"
    },
    "tags": []
   },
   "outputs": [
    {
     "data": {
      "image/png": "[encoded data removed]",
      "text/plain": [
       "<Figure size 640x480 with 1 Axes>"
      ]
     },
     "metadata": {},
     "output_type": "display_data"
    }
   ],
   "source": [
    "sns.countplot(data=df,x=\"transmission\",palette=\"Spectral\")\n",
    "\n",
    "plt.xlabel(\"TRANMISSION\",fontsize=10,color=\"GREEN\")\n",
    "plt.ylabel(\"COUNT\",fontsize=10,color=\"GREEN\")\n",
    "plt.title(\"TRANSMISSION COUNT\",color=\"GREEN\")\n",
    "\n",
    "plt.show()"
   ]
  },
  {
   "cell_type": "markdown",
   "id": "ed291e88",
   "metadata": {
    "papermill": {
     "duration": 0.019731,
     "end_time": "2022-11-01T05:17:20.728834",
     "exception": false,
     "start_time": "2022-11-01T05:17:20.709103",
     "status": "completed"
    },
    "tags": []
   },
   "source": [
    "<div style=\"color:yellow;\n",
    "           display:fill;\n",
    "           border-radius:25px;\n",
    "           background-color:#27948b;\n",
    "           font-size:110%;\n",
    "           font-family:Verdana;\n",
    "           letter-spacing:0.5px\">\n",
    "<p style=\"padding: 10px;\n",
    "           color:#e7d954;\">It is the graphic that shows whether the cars are manual or automatic.\n",
    " Most are manual cars\n",
    "</p>\n",
    "</div>"
   ]
  },
  {
   "cell_type": "code",
   "execution_count": 36,
   "id": "bbd0bc56",
   "metadata": {
    "execution": {
     "iopub.execute_input": "2022-11-01T05:17:20.770149Z",
     "iopub.status.busy": "2022-11-01T05:17:20.769807Z",
     "iopub.status.idle": "2022-11-01T05:17:20.871708Z",
     "shell.execute_reply": "2022-11-01T05:17:20.870946Z"
    },
    "papermill": {
     "duration": 0.124777,
     "end_time": "2022-11-01T05:17:20.873638",
     "exception": false,
     "start_time": "2022-11-01T05:17:20.748861",
     "status": "completed"
    },
    "tags": []
   },
   "outputs": [
    {
     "data": {
      "image/png": "[encoded data removed]",
      "text/plain": [
       "<Figure size 1400x700 with 1 Axes>"
      ]
     },
     "metadata": {},
     "output_type": "display_data"
    }
   ],
   "source": [
    "plt.figure(figsize=(14, 7))\n",
    "labels=['Automatic', 'Manuel']\n",
    "transmission_count = df['transmission'].value_counts()\n",
    "\n",
    "plt.pie(transmission_count,labels=labels,explode=[0.1,0.1],\n",
    "        autopct='%1.2f%%',colors=['lightgray','cyan'], startangle=90)\n",
    "plt.title('TRANSMISSION COUNT PERCENTAGE')\n",
    "\n",
    "plt.show()"
   ]
  },
  {
   "cell_type": "markdown",
   "id": "afd1cde8",
   "metadata": {
    "papermill": {
     "duration": 0.026999,
     "end_time": "2022-11-01T05:17:20.929401",
     "exception": false,
     "start_time": "2022-11-01T05:17:20.902402",
     "status": "completed"
    },
    "tags": []
   },
   "source": [
    "<div style=\"color:yellow;\n",
    "           display:fill;\n",
    "           border-radius:25px;\n",
    "           background-color:#27948b;\n",
    "           font-size:110%;\n",
    "           font-family:Verdana;\n",
    "           letter-spacing:0.5px\">\n",
    "<p style=\"padding: 10px;\n",
    "           color:#e7d954;\">It is the graphic that shows whether the cars are manual or automatic.\n",
    " Pie chart showing that most of them are manual cars.\n",
    "</p>\n",
    "</div>"
   ]
  },
  {
   "cell_type": "markdown",
   "id": "f17d277b",
   "metadata": {},
   "source": [
    "# 6. Are Vehicles generally sold as first-hand, second-hand vehicles or something else ?"
   ]
  },
  {
   "cell_type": "code",
   "execution_count": 37,
   "id": "5f9a04c6",
   "metadata": {
    "execution": {
     "iopub.execute_input": "2022-11-01T05:17:20.976853Z",
     "iopub.status.busy": "2022-11-01T05:17:20.976066Z",
     "iopub.status.idle": "2022-11-01T05:17:20.984866Z",
     "shell.execute_reply": "2022-11-01T05:17:20.983317Z"
    },
    "papermill": {
     "duration": 0.033256,
     "end_time": "2022-11-01T05:17:20.987695",
     "exception": false,
     "start_time": "2022-11-01T05:17:20.954439",
     "status": "completed"
    },
    "tags": []
   },
   "outputs": [
    {
     "data": {
      "text/plain": [
       "owner\n",
       "First Owner             2832\n",
       "Second Owner            1106\n",
       "Third Owner              304\n",
       "Fourth & Above Owner      81\n",
       "Test Drive Car            17\n",
       "Name: count, dtype: int64"
      ]
     },
     "execution_count": 37,
     "metadata": {},
     "output_type": "execute_result"
    }
   ],
   "source": [
    "df.owner.value_counts()"
   ]
  },
  {
   "cell_type": "code",
   "execution_count": 38,
   "id": "b638c31b",
   "metadata": {
    "execution": {
     "iopub.execute_input": "2022-11-01T05:17:21.030727Z",
     "iopub.status.busy": "2022-11-01T05:17:21.030378Z",
     "iopub.status.idle": "2022-11-01T05:17:21.200293Z",
     "shell.execute_reply": "2022-11-01T05:17:21.198733Z"
    },
    "papermill": {
     "duration": 0.194226,
     "end_time": "2022-11-01T05:17:21.202766",
     "exception": false,
     "start_time": "2022-11-01T05:17:21.008540",
     "status": "completed"
    },
    "tags": []
   },
   "outputs": [
    {
     "data": {
      "image/png": "[encoded data removed]",
      "text/plain": [
       "<Figure size 640x480 with 1 Axes>"
      ]
     },
     "metadata": {},
     "output_type": "display_data"
    }
   ],
   "source": [
    "sns.countplot(data=df,x=\"owner\",palette=\"viridis\")\n",
    "\n",
    "plt.xticks(rotation=90)\n",
    "plt.xlabel(\"OWNER\",fontsize=10,color=\"purple\")\n",
    "plt.ylabel(\"COUNT\",fontsize=10,color=\"purple\")\n",
    "plt.title(\"OWNER COUNT\",color=\"purple\")\n",
    "\n",
    "plt.show()"
   ]
  },
  {
   "cell_type": "markdown",
   "id": "db4af7e4",
   "metadata": {
    "papermill": {
     "duration": 0.020587,
     "end_time": "2022-11-01T05:17:21.244573",
     "exception": false,
     "start_time": "2022-11-01T05:17:21.223986",
     "status": "completed"
    },
    "tags": []
   },
   "source": [
    "<div style=\"color:yellow;\n",
    "           display:fill;\n",
    "           border-radius:25px;\n",
    "           background-color:#27948b;\n",
    "           font-size:110%;\n",
    "           font-family:Verdana;\n",
    "           letter-spacing:0.5px\">\n",
    "<p style=\"padding: 10px;\n",
    "           color:#e7d954;\">This chart shows us that sellers are selling more first hand.\n",
    "</p>\n",
    "</div>"
   ]
  },
  {
   "cell_type": "code",
   "execution_count": 39,
   "id": "91395df8",
   "metadata": {
    "execution": {
     "iopub.execute_input": "2022-11-01T05:17:21.288528Z",
     "iopub.status.busy": "2022-11-01T05:17:21.288177Z",
     "iopub.status.idle": "2022-11-01T05:17:21.429931Z",
     "shell.execute_reply": "2022-11-01T05:17:21.429104Z"
    },
    "papermill": {
     "duration": 0.166788,
     "end_time": "2022-11-01T05:17:21.432143",
     "exception": false,
     "start_time": "2022-11-01T05:17:21.265355",
     "status": "completed"
    },
    "tags": []
   },
   "outputs": [
    {
     "data": {
      "image/png": "[encoded data removed]",
      "text/plain": [
       "<Figure size 800x800 with 1 Axes>"
      ]
     },
     "metadata": {},
     "output_type": "display_data"
    }
   ],
   "source": [
    "labels = df[\"owner\"].value_counts().index\n",
    "sizes = df[\"owner\"].value_counts()\n",
    "colors = ['#ff9999','#66b3ff','#99ff99','#ffcc99',\"pink\",\"yellow\"]\n",
    "explode_part =[0,0,0,0.9,0]\n",
    "plt.figure(figsize = (8,8))\n",
    "\n",
    "plt.pie(sizes, labels=labels, rotatelabels=False, autopct='%1.1f%%',colors=colors,explode = explode_part ,shadow=True, startangle=0)\n",
    "plt.title('Owner Count Percentage',color = 'red',fontsize = 15)\n",
    "\n",
    "plt.show()"
   ]
  },
  {
   "cell_type": "markdown",
   "id": "dea237ad",
   "metadata": {
    "papermill": {
     "duration": 0.03062,
     "end_time": "2022-11-01T05:17:21.492406",
     "exception": false,
     "start_time": "2022-11-01T05:17:21.461786",
     "status": "completed"
    },
    "tags": []
   },
   "source": [
    "<div style=\"color:yellow;\n",
    "           display:fill;\n",
    "           border-radius:25px;\n",
    "           background-color:#27948b;\n",
    "           font-size:110%;\n",
    "           font-family:Verdana;\n",
    "           letter-spacing:0.5px\">\n",
    "<p style=\"padding: 10px;\n",
    "           color:#e7d954;\">This pie chart shows us that sellers are selling more first hand.\n",
    "</p>\n",
    "</div>"
   ]
  },
  {
   "cell_type": "code",
   "execution_count": 40,
   "id": "38203f7f",
   "metadata": {
    "execution": {
     "iopub.execute_input": "2022-11-01T05:17:22.427126Z",
     "iopub.status.busy": "2022-11-01T05:17:22.426760Z",
     "iopub.status.idle": "2022-11-01T05:17:22.441521Z",
     "shell.execute_reply": "2022-11-01T05:17:22.440280Z"
    },
    "papermill": {
     "duration": 0.042259,
     "end_time": "2022-11-01T05:17:22.443921",
     "exception": false,
     "start_time": "2022-11-01T05:17:22.401662",
     "status": "completed"
    },
    "tags": []
   },
   "outputs": [
    {
     "data": {
      "text/html": [
       "<div>\n",
       "<style scoped>\n",
       "    .dataframe tbody tr th:only-of-type {\n",
       "        vertical-align: middle;\n",
       "    }\n",
       "\n",
       "    .dataframe tbody tr th {\n",
       "        vertical-align: top;\n",
       "    }\n",
       "\n",
       "    .dataframe thead th {\n",
       "        text-align: right;\n",
       "    }\n",
       "</style>\n",
       "<table border=\"1\" class=\"dataframe\">\n",
       "  <thead>\n",
       "    <tr style=\"text-align: right;\">\n",
       "      <th></th>\n",
       "      <th>name</th>\n",
       "      <th>year</th>\n",
       "      <th>selling_price</th>\n",
       "      <th>km_driven</th>\n",
       "      <th>fuel</th>\n",
       "      <th>seller_type</th>\n",
       "      <th>transmission</th>\n",
       "      <th>owner</th>\n",
       "      <th>name_2</th>\n",
       "    </tr>\n",
       "  </thead>\n",
       "  <tbody>\n",
       "    <tr>\n",
       "      <th>0</th>\n",
       "      <td>Maruti 800 AC</td>\n",
       "      <td>2007</td>\n",
       "      <td>60000</td>\n",
       "      <td>70000</td>\n",
       "      <td>Petrol</td>\n",
       "      <td>Individual</td>\n",
       "      <td>Manual</td>\n",
       "      <td>First Owner</td>\n",
       "      <td>Maruti</td>\n",
       "    </tr>\n",
       "    <tr>\n",
       "      <th>1</th>\n",
       "      <td>Maruti Wagon R LXI Minor</td>\n",
       "      <td>2007</td>\n",
       "      <td>135000</td>\n",
       "      <td>50000</td>\n",
       "      <td>Petrol</td>\n",
       "      <td>Individual</td>\n",
       "      <td>Manual</td>\n",
       "      <td>First Owner</td>\n",
       "      <td>Maruti</td>\n",
       "    </tr>\n",
       "    <tr>\n",
       "      <th>2</th>\n",
       "      <td>Hyundai Verna 1.6 SX</td>\n",
       "      <td>2012</td>\n",
       "      <td>600000</td>\n",
       "      <td>100000</td>\n",
       "      <td>Diesel</td>\n",
       "      <td>Individual</td>\n",
       "      <td>Manual</td>\n",
       "      <td>First Owner</td>\n",
       "      <td>Hyundai</td>\n",
       "    </tr>\n",
       "    <tr>\n",
       "      <th>3</th>\n",
       "      <td>Datsun RediGO T Option</td>\n",
       "      <td>2017</td>\n",
       "      <td>250000</td>\n",
       "      <td>46000</td>\n",
       "      <td>Petrol</td>\n",
       "      <td>Individual</td>\n",
       "      <td>Manual</td>\n",
       "      <td>First Owner</td>\n",
       "      <td>Datsun</td>\n",
       "    </tr>\n",
       "    <tr>\n",
       "      <th>4</th>\n",
       "      <td>Honda Amaze VX i-DTEC</td>\n",
       "      <td>2014</td>\n",
       "      <td>450000</td>\n",
       "      <td>141000</td>\n",
       "      <td>Diesel</td>\n",
       "      <td>Individual</td>\n",
       "      <td>Manual</td>\n",
       "      <td>Second Owner</td>\n",
       "      <td>Honda</td>\n",
       "    </tr>\n",
       "  </tbody>\n",
       "</table>\n",
       "</div>"
      ],
      "text/plain": [
       "                       name  year  selling_price  km_driven    fuel  \\\n",
       "0             Maruti 800 AC  2007          60000      70000  Petrol   \n",
       "1  Maruti Wagon R LXI Minor  2007         135000      50000  Petrol   \n",
       "2      Hyundai Verna 1.6 SX  2012         600000     100000  Diesel   \n",
       "3    Datsun RediGO T Option  2017         250000      46000  Petrol   \n",
       "4     Honda Amaze VX i-DTEC  2014         450000     141000  Diesel   \n",
       "\n",
       "  seller_type transmission         owner   name_2  \n",
       "0  Individual       Manual   First Owner   Maruti  \n",
       "1  Individual       Manual   First Owner   Maruti  \n",
       "2  Individual       Manual   First Owner  Hyundai  \n",
       "3  Individual       Manual   First Owner   Datsun  \n",
       "4  Individual       Manual  Second Owner    Honda  "
      ]
     },
     "execution_count": 40,
     "metadata": {},
     "output_type": "execute_result"
    }
   ],
   "source": [
    "df.head()"
   ]
  },
  {
   "cell_type": "markdown",
   "id": "51206db9",
   "metadata": {
    "papermill": {
     "duration": 0.031812,
     "end_time": "2022-11-01T05:17:28.544733",
     "exception": false,
     "start_time": "2022-11-01T05:17:28.512921",
     "status": "completed"
    },
    "tags": []
   },
   "source": [
    "<a id=\"5\"></a>\n",
    "# <p style=\"padding:10px;background-color:#27948b;margin:0;color:#e7d954;font-family:newtimeroman;font-size:100%;text-align:center;border-radius: 15px 50px;overflow:hidden;font-weight:500\">Result</p>"
   ]
  },
  {
   "cell_type": "markdown",
   "id": "06c4d917",
   "metadata": {
    "papermill": {
     "duration": 0.03026,
     "end_time": "2022-11-01T05:17:28.604030",
     "exception": false,
     "start_time": "2022-11-01T05:17:28.573770",
     "status": "completed"
    },
    "tags": []
   },
   "source": [
    "# 1. Which car is the best-selling in the company?\n",
    "  ### Solution-> The best selling car is the Maruti. Next comes Hyundai.\n",
    "\n",
    "\n",
    "\n",
    "\n",
    "# 2. In which Year were The Most Sales made ?\n",
    "\n",
    "### Solution-> Most sales were made in 2017.\n",
    "\n",
    "\n",
    "# 3. What was the most common type of fuel used by cars ?\n",
    "\n",
    "### Solution-> the most common type of fuel is diesel, followed by petroleum.\n",
    "\n",
    "# 4.  In which Sales types were Most of the sales made through individually , dealer or Trustmark Dealer ?\n",
    "### Solution-> Most of the sales are made individually\n",
    "\n",
    "\n",
    "# 5. Cars are usually manual or automatic ?\n",
    "### Solution-> Cars are usually manual.\n",
    "\n",
    "\n",
    "# 6. Are Vehicles generally sold as first-hand, second-hand vehicles or something else ?\n",
    "### Solution-> We can say that vehicles are generally sold first-hand, followed by second-hand vehicles.\n",
    "\n",
    "\n"
   ]
  },
  {
   "cell_type": "markdown",
   "id": "ac360a22",
   "metadata": {
    "papermill": {
     "duration": 0.028975,
     "end_time": "2022-11-01T05:17:28.721684",
     "exception": false,
     "start_time": "2022-11-01T05:17:28.692709",
     "status": "completed"
    },
    "tags": []
   },
   "source": [
    "<p style=\"background-color:#27948b;font-family:newtimeroman;color:#e7d954;font-size:130%;text-align:center;border-radius:20px 20px;\"> Please Subscribe Analytical Developer Youtube Channel.<br> If you have any questions, feel free to comment!<br> ⭐️ Best Wishes ⭐️</p>"
   ]
  },
  {
   "cell_type": "code",
   "execution_count": null,
   "id": "a173b562",
   "metadata": {},
   "outputs": [],
   "source": []
  }
 ],
 "metadata": {
  "kernelspec": {
   "display_name": "Python 3 (ipykernel)",
   "language": "python",
   "name": "python3"
  },
  "language_info": {
   "codemirror_mode": {
    "name": "ipython",
    "version": 3
   },
   "file_extension": ".py",
   "mimetype": "text/x-python",
   "name": "python",
   "nbconvert_exporter": "python",
   "pygments_lexer": "ipython3",
   "version": "3.11.7"
  },
  "papermill": {
   "default_parameters": {},
   "duration": 24.538417,
   "end_time": "2022-11-01T05:17:29.674505",
   "environment_variables": {},
   "exception": null,
   "input_path": "__notebook__.ipynb",
   "output_path": "__notebook__.ipynb",
   "parameters": {},
   "start_time": "2022-11-01T05:17:05.136088",
   "version": "2.3.4"
  }
 },
 "nbformat": 4,
 "nbformat_minor": 5
}
